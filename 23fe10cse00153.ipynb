{
 "cells": [
  {
   "cell_type": "code",
   "execution_count": 5,
   "id": "036e7312-221f-447a-80d8-10e15d26d3c8",
   "metadata": {},
   "outputs": [
    {
     "name": "stdout",
     "output_type": "stream",
     "text": [
      "4\n",
      "7\n"
     ]
    }
   ],
   "source": [
    "#WAP for finding absolute value of a number\n",
    "def abs_val(num):\n",
    "    if num>=0:\n",
    "        return num\n",
    "    else:\n",
    "        return -num\n",
    "\n",
    "print(abs_val(4))\n",
    "print(abs_val(-7))"
   ]
  },
  {
   "cell_type": "markdown",
   "id": "87a04bf2-85c5-4983-abe6-69e005c74c71",
   "metadata": {},
   "source": [
    "# WAP for calculator operation"
   ]
  },
  {
   "cell_type": "code",
   "execution_count": 1,
   "id": "015dce67-d465-4cec-a9af-ffae47950aa7",
   "metadata": {},
   "outputs": [
    {
     "name": "stdin",
     "output_type": "stream",
     "text": [
      "Enter 1st number:  23\n",
      "Enter 2nd number:  22\n",
      "Enter operator = 1 for + , 2 for - , 3 for * , 4 for / , 5 for **: 3\n"
     ]
    },
    {
     "name": "stdout",
     "output_type": "stream",
     "text": [
      "506\n"
     ]
    }
   ],
   "source": [
    "# WAP for calculator operation\n",
    "num1 = eval(input(\"Enter 1st number: \"))\n",
    "num2 = eval(input(\"Enter 2nd number: \"))\n",
    "operation = int(input(\"Enter operator = 1 for + , 2 for - , 3 for * , 4 for / , 5 for **:\"))\n",
    "if operation == 1:\n",
    "    print(num1+num2)\n",
    "elif operation == 2:\n",
    "    print(num1-num2)\n",
    "elif operation == 3:\n",
    "    print(num1*num2)\n",
    "elif operation == 4:\n",
    "    print(num1/num2)\n",
    "elif operation == 5:\n",
    "    print(num1**num2)\n",
    "else:\n",
    "    print(\"Invalid operation.\")\n"
   ]
  },
  {
   "cell_type": "markdown",
   "id": "d8f3cdda-27ca-4288-bd39-91707f80f14e",
   "metadata": {},
   "source": [
    "# WAP for calculating factorial of numbers from 1 to n"
   ]
  },
  {
   "cell_type": "code",
   "execution_count": 20,
   "id": "fc208672-6a90-4089-b99c-3c8f2bbcb41c",
   "metadata": {},
   "outputs": [
    {
     "name": "stdin",
     "output_type": "stream",
     "text": [
      "Enter any number:  5\n"
     ]
    },
    {
     "name": "stdout",
     "output_type": "stream",
     "text": [
      "The factorial of your number is:  120\n"
     ]
    }
   ],
   "source": [
    "# WAP for calculating factorial of numbers from 1 to n\n",
    "def factorial(n):\n",
    "    fact = 1\n",
    "    for i in range (1,n+1):\n",
    "        fact *= i\n",
    "    return fact\n",
    "n = int(input(\"Enter any number: \"))\n",
    "print(\"The factorial of your number is: \",factorial(n))"
   ]
  },
  {
   "cell_type": "markdown",
   "id": "834295a7-8443-43fd-bb62-badfae7b0861",
   "metadata": {},
   "source": [
    "# WAP for printing fibonacci series from 1 to 100"
   ]
  },
  {
   "cell_type": "code",
   "execution_count": 1,
   "id": "5b6ed4de-e0db-4b94-8f5f-0dc625aae1ee",
   "metadata": {},
   "outputs": [
    {
     "name": "stdout",
     "output_type": "stream",
     "text": [
      "1\n",
      "1\n",
      "2\n",
      "3\n",
      "5\n",
      "8\n",
      "13\n",
      "21\n",
      "34\n",
      "55\n",
      "89\n"
     ]
    }
   ],
   "source": [
    "# WAP for printing fibonacci series from 1 to 100\n",
    "def fibonacci(limit):\n",
    "    a,b=0,1\n",
    "    while a<=limit:\n",
    "        if a!=0:\n",
    "            print(a,end = \"\\n\")\n",
    "        a,b = b,a+b\n",
    "fibonacci(100)"
   ]
  },
  {
   "cell_type": "markdown",
   "id": "372ccb8d-192b-4f7b-8327-56e2dd310a1b",
   "metadata": {},
   "source": [
    "# WAP to check a number is strong number or not"
   ]
  },
  {
   "cell_type": "code",
   "execution_count": 28,
   "id": "9b038282-0625-42ff-b3f4-8526771a03c8",
   "metadata": {},
   "outputs": [
    {
     "name": "stdin",
     "output_type": "stream",
     "text": [
      "Enter any number:  145\n"
     ]
    },
    {
     "name": "stdout",
     "output_type": "stream",
     "text": [
      "1\n",
      "1\n",
      "2\n",
      "None\n"
     ]
    }
   ],
   "source": [
    "# WAP to check a number is strong number or not\n",
    "def factorial(n):\n",
    "    fact = 1\n",
    "    for i in range (1,n+1):\n",
    "        fact *= i\n",
    "    return fact\n",
    "a = int(input(\"Enter any number: \"))\n",
    "a = str(a)\n",
    "def strong(a):\n",
    "    for i in range (0,len(a)):\n",
    "        print(factorial(i))\n",
    "print(strong(a))"
   ]
  },
  {
   "cell_type": "code",
   "execution_count": null,
   "id": "5769905a-e02b-4b85-8d68-f86338e24c06",
   "metadata": {},
   "outputs": [],
   "source": []
  }
 ],
 "metadata": {
  "kernelspec": {
   "display_name": "Python 3 (ipykernel)",
   "language": "python",
   "name": "python3"
  },
  "language_info": {
   "codemirror_mode": {
    "name": "ipython",
    "version": 3
   },
   "file_extension": ".py",
   "mimetype": "text/x-python",
   "name": "python",
   "nbconvert_exporter": "python",
   "pygments_lexer": "ipython3",
   "version": "3.12.4"
  }
 },
 "nbformat": 4,
 "nbformat_minor": 5
}
